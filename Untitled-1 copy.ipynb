{
 "cells": [
  {
   "cell_type": "code",
   "execution_count": 7,
   "metadata": {},
   "outputs": [],
   "source": [
    "import libpysal as ps\n",
    "import geopandas as gpd\n",
    "import splot\n",
    "import matplotlib.pyplot as plt\n",
    "import esda\n",
    "import pandas as pd\n",
    "import seaborn as sns\n",
    "import numpy as np\n",
    "import sqlite3 as sq\n",
    "import statsmodels.api as sm\n",
    "import pandas as pd\n",
    "from sklearn.model_selection import train_test_split\n",
    "from sklearn.metrics import mean_squared_error, mean_absolute_error, r2_score\n",
    "import numpy as np\n",
    "import pandas as pd\n",
    "import statsmodels.api as sm\n",
    "import seaborn as sns\n",
    "import matplotlib.pyplot as plt\n",
    "from statsmodels.stats.diagnostic import het_breuschpagan\n",
    "from statsmodels.stats.outliers_influence import variance_inflation_factor\n",
    "from statsmodels.tools.tools import add_constant\n",
    "from scipy import stats\n",
    "from sklearn.metrics import accuracy_score, classification_report, confusion_matrix\n",
    "\n",
    "\n",
    "\n"
   ]
  },
  {
   "cell_type": "code",
   "execution_count": 8,
   "metadata": {},
   "outputs": [],
   "source": [
    "\n",
    "conn = sq.connect('/home/manuel/Desktop/pROYECTO/database.db')\n",
    "\n",
    "\n",
    "# CARGA DE DATOS PARA PRIMER ANALISIS, TOTAL INGRESOS POR LOCALIDADES DE CUNDINAMARCA\n",
    "\n",
    "\n",
    "#Caracteristicas\n",
    "caracteristicas = pd.read_sql('SELECT * FROM Caracteristicas', conn)\n",
    "#Educacion\n",
    "Educacion = pd.read_sql('SELECT * FROM Educacion', conn)\n",
    "#Trabajo\n",
    "Trabajo = pd.read_sql('SELECT * FROM Trabajo', conn)\n",
    "#Atencion_infancia\n",
    "Codigos = pd.read_sql('SELECT * FROM Codigos', conn)\n",
    "#Educacion\n",
    "Educacion = pd.read_sql('SELECT * FROM Educacion', conn)\n",
    "#Vivienda\n",
    "Vivienda = pd.read_sql('SELECT * FROM Vivienda', conn)\n",
    "#Con_vida\n",
    "Con_vida = pd.read_sql('SELECT * FROM Con_vida', conn)\n",
    "#variebles\n",
    "Variables = pd.read_sql('SELECT * FROM variebles', conn)\n",
    "# servicion hogar\n",
    "servicios_hogar = pd.read_sql('SELECT * FROM Servicios_hogar', conn)\n"
   ]
  },
  {
   "cell_type": "code",
   "execution_count": null,
   "metadata": {},
   "outputs": [],
   "source": [
    "Variables_ = Variables[['DIRECTORIO', 'SECUENCIA_P', 'ORDEN', 'MPIO', 'SEGMENTO']]\n",
    "Caracteristicas_ = caracteristicas[['DIRECTORIO', 'SECUENCIA_ENCUESTA', 'SECUENCIA_P', 'ORDEN', 'P6020', 'P6034', 'P6040', 'P6087']]\n",
    "Educacion_ = Educacion[['DIRECTORIO', 'SECUENCIA_ENCUESTA', 'SECUENCIA_P', 'ORDEN', 'P6160', 'P8586',  'P8587',  'P6211', 'P1088', 'P6216','P5673']]\n",
    "Trabajo_ = Trabajo[['DIRECTORIO', 'SECUENCIA_ENCUESTA', 'SECUENCIA_P', 'ORDEN', \"P421S2\",\"P6240\", \"P6390S2\",\"P6435\", \"P6440\",\"P6460\",\n",
    "                    \"P6460S1\",\"P8634\", \"P8636\", \"P8636S1\",\"P8640\",\"P8640S1\",\"P8654\",\"P8654S1\"]]\n",
    "\n",
    "Servicios_ = servicios_hogar[['DIRECTORIO', 'SECUENCIA_ENCUESTA', 'SECUENCIA_P', 'ORDEN', 'I_HOGAR' ,'PERCAPITA', 'CANT_PERSONAS_HOGAR']]\n",
    "Codigos = pd.read_sql('SELECT * FROM Codigos', conn)\n",
    "Codigos_ = (Codigos[[ 'COD_MPIO', 'NOMB_DEP','NOMB_MUN', 'LONGITUD',  'LATITUD']]\n",
    "  .groupby(['NOMB_DEP','NOMB_MUN','COD_MPIO'])\n",
    "  .agg(LATITUD = ('LATITUD','first'), LONGITUD = ('LONGITUD','first'))\n",
    "  .reset_index()\n",
    " )\n",
    "\n",
    "Codigos.loc[:,'LONGITUD'] = Codigos['LONGITUD'].replace(\",\",\".\",regex = True).astype(float)\n",
    "Codigos_.loc[:,'LATITUD'] = Codigos['LATITUD'].replace(\",\",\".\",regex = True).astype(float)\n",
    "\n",
    "data = (Variables_\n",
    " .merge(Caracteristicas_, how='inner', on=['DIRECTORIO', 'SECUENCIA_P', 'ORDEN'])\n",
    " .merge(Educacion_, how='inner', on=['DIRECTORIO', 'SECUENCIA_P','SECUENCIA_ENCUESTA', 'ORDEN'])\n",
    " .merge(Trabajo_, how='inner', on=['DIRECTORIO', 'SECUENCIA_P','SECUENCIA_ENCUESTA', 'ORDEN'])\n",
    " .merge(Servicios_, how='inner', on=['DIRECTORIO', 'SECUENCIA_P','SECUENCIA_ENCUESTA', 'ORDEN'])\n",
    " .merge(Codigos_, how='inner', left_on='MPIO', right_on='COD_MPIO'))\n",
    "\n",
    "\n"
   ]
  },
  {
   "cell_type": "code",
   "execution_count": 10,
   "metadata": {},
   "outputs": [
    {
     "data": {
      "text/plain": [
       "86165"
      ]
     },
     "execution_count": 10,
     "metadata": {},
     "output_type": "execute_result"
    }
   ],
   "source": [
    "variables = ['P6034','P6040','P6087','P8586','P6211','P1088','P6240','P6390S2',\n",
    "              'P6435','P6440','P6460','P6460S1','P8634','P8636','P8636S1','P8654',\n",
    "              'P8654S1','I_HOGAR','PERCAPITA','CANT_PERSONAS_HOGAR','DIRECTORIO',\n",
    "              'MPIO','NOMB_MUN','COD_MPIO','LATITUD','LONGITUD']\n",
    "\n",
    "data = data[variables]\n",
    "data['Total_ingresos'] = (pd.to_numeric(data['I_HOGAR'],errors='coerce').fillna(0) + \n",
    "                         pd.to_numeric(data['P8636S1'],errors='coerce').fillna(0) * \n",
    "                         pd.to_numeric(data['P8654S1'],errors='coerce').fillna(0)/12)\n",
    "\n",
    "data = data.drop(columns=['I_HOGAR','P8636S1','P8654S1','PERCAPITA'])\n",
    "data = data.loc[data['P6040']>=18,:]\n",
    "\n",
    "cursor = conn.cursor()\n",
    "cursor.execute('DROP TABLE IF EXISTS Seleccionados')\n",
    "conn.commit()\n",
    "\n",
    "data.to_sql('Seleccionados',conn,index = False)"
   ]
  },
  {
   "cell_type": "code",
   "execution_count": 11,
   "metadata": {},
   "outputs": [],
   "source": [
    "\n",
    "# MODELO DE REGRESION LINEAL  GENERALIZADO\n",
    "\n",
    "# PRIMERO SE SE CREA EVALUA LA VARIABLE DE RESPUESTA 'Total ingresos'\n",
    "# UNIDADES POR MILLON DE PESOS\n",
    "seleccion = pd.read_sql('SELECT * FROM Seleccionados', conn)\n",
    "seleccion[['Total_ingresos']] = seleccion[['Total_ingresos']].astype(int)/1000000\n",
    "# SE ELIMINAN AQUELLOS QUE TIENEN INGRESOS MAYORES A 100 MILLONES\n",
    "\n",
    "seleccion = seleccion[seleccion['Total_ingresos'] < seleccion['Total_ingresos'].quantile(0.99)]\n",
    "\n",
    "# REVISEMOS EL HISTOGRAMA Y BOXPLOT\n",
    "# fig, axs = plt.subplots(nrows=2, ncols=2)  # Crear subgráficos (2x2)\n",
    "\n",
    "\n",
    "# sns.barplot(data=seleccion, x='P6020', ax=axs[0, 0],hue = 'P6020')\n",
    "# sns.barplot(data=seleccion, x='P6435', ax=axs[1, 0],hue = 'P6435')\n",
    "# sns.barplot(data=seleccion, x='P8636', ax=axs[1, 1],hue = 'P8636')\n",
    "# sns.histplot(data=seleccion, x='Total_ingresos',bins=30, ax=axs[0, 1])\n",
    "\n",
    "\n",
    "# Mostrar la figura\n",
    "# plt.tight_layout()  # Ajusta el espaciado entre los subgráficos\n",
    "# plt.show()\n"
   ]
  },
  {
   "cell_type": "code",
   "execution_count": 12,
   "metadata": {},
   "outputs": [
    {
     "data": {
      "text/plain": [
       "(85303, 23)"
      ]
     },
     "execution_count": 12,
     "metadata": {},
     "output_type": "execute_result"
    }
   ],
   "source": [
    "seleccion.shape"
   ]
  },
  {
   "cell_type": "code",
   "execution_count": 13,
   "metadata": {},
   "outputs": [],
   "source": [
    "seleccion = seleccion.fillna(0)\n",
    "\n",
    "# ELIMINAR P1088"
   ]
  },
  {
   "cell_type": "code",
   "execution_count": 14,
   "metadata": {},
   "outputs": [
    {
     "data": {
      "text/html": [
       "<div>\n",
       "<style scoped>\n",
       "    .dataframe tbody tr th:only-of-type {\n",
       "        vertical-align: middle;\n",
       "    }\n",
       "\n",
       "    .dataframe tbody tr th {\n",
       "        vertical-align: top;\n",
       "    }\n",
       "\n",
       "    .dataframe thead th {\n",
       "        text-align: right;\n",
       "    }\n",
       "</style>\n",
       "<table border=\"1\" class=\"dataframe\">\n",
       "  <thead>\n",
       "    <tr style=\"text-align: right;\">\n",
       "      <th></th>\n",
       "      <th>P6034</th>\n",
       "      <th>P6040</th>\n",
       "      <th>P6087</th>\n",
       "      <th>P8586</th>\n",
       "      <th>P6211</th>\n",
       "      <th>P1088</th>\n",
       "      <th>P6240</th>\n",
       "      <th>P6390S2</th>\n",
       "      <th>P6435</th>\n",
       "      <th>P6440</th>\n",
       "      <th>...</th>\n",
       "      <th>P8636</th>\n",
       "      <th>P8654</th>\n",
       "      <th>CANT_PERSONAS_HOGAR</th>\n",
       "      <th>DIRECTORIO</th>\n",
       "      <th>MPIO</th>\n",
       "      <th>NOMB_MUN</th>\n",
       "      <th>COD_MPIO</th>\n",
       "      <th>LATITUD</th>\n",
       "      <th>LONGITUD</th>\n",
       "      <th>Total_ingresos</th>\n",
       "    </tr>\n",
       "  </thead>\n",
       "  <tbody>\n",
       "    <tr>\n",
       "      <th>0</th>\n",
       "      <td>1</td>\n",
       "      <td>43</td>\n",
       "      <td>1.0</td>\n",
       "      <td>2</td>\n",
       "      <td>0.0</td>\n",
       "      <td>0.0</td>\n",
       "      <td>1</td>\n",
       "      <td>5619.0</td>\n",
       "      <td>4.0</td>\n",
       "      <td>2.0</td>\n",
       "      <td>...</td>\n",
       "      <td>2.0</td>\n",
       "      <td>2</td>\n",
       "      <td>2</td>\n",
       "      <td>7910114</td>\n",
       "      <td>73001</td>\n",
       "      <td>IBAGUÉ</td>\n",
       "      <td>73001</td>\n",
       "      <td>8.955614</td>\n",
       "      <td>-75,1953679078</td>\n",
       "      <td>0.775000</td>\n",
       "    </tr>\n",
       "    <tr>\n",
       "      <th>1</th>\n",
       "      <td>1</td>\n",
       "      <td>33</td>\n",
       "      <td>10.0</td>\n",
       "      <td>2</td>\n",
       "      <td>0.0</td>\n",
       "      <td>0.0</td>\n",
       "      <td>1</td>\n",
       "      <td>9700.0</td>\n",
       "      <td>3.0</td>\n",
       "      <td>0.0</td>\n",
       "      <td>...</td>\n",
       "      <td>2.0</td>\n",
       "      <td>2</td>\n",
       "      <td>2</td>\n",
       "      <td>7910126</td>\n",
       "      <td>73001</td>\n",
       "      <td>IBAGUÉ</td>\n",
       "      <td>73001</td>\n",
       "      <td>8.955614</td>\n",
       "      <td>-75,1953679078</td>\n",
       "      <td>0.840833</td>\n",
       "    </tr>\n",
       "    <tr>\n",
       "      <th>2</th>\n",
       "      <td>1</td>\n",
       "      <td>63</td>\n",
       "      <td>2.0</td>\n",
       "      <td>2</td>\n",
       "      <td>0.0</td>\n",
       "      <td>0.0</td>\n",
       "      <td>4</td>\n",
       "      <td>4792.0</td>\n",
       "      <td>5.0</td>\n",
       "      <td>2.0</td>\n",
       "      <td>...</td>\n",
       "      <td>2.0</td>\n",
       "      <td>2</td>\n",
       "      <td>2</td>\n",
       "      <td>7910129</td>\n",
       "      <td>73001</td>\n",
       "      <td>IBAGUÉ</td>\n",
       "      <td>73001</td>\n",
       "      <td>8.955614</td>\n",
       "      <td>-75,1953679078</td>\n",
       "      <td>0.300000</td>\n",
       "    </tr>\n",
       "    <tr>\n",
       "      <th>3</th>\n",
       "      <td>1</td>\n",
       "      <td>81</td>\n",
       "      <td>10.0</td>\n",
       "      <td>2</td>\n",
       "      <td>0.0</td>\n",
       "      <td>0.0</td>\n",
       "      <td>4</td>\n",
       "      <td>0.0</td>\n",
       "      <td>0.0</td>\n",
       "      <td>0.0</td>\n",
       "      <td>...</td>\n",
       "      <td>0.0</td>\n",
       "      <td>2</td>\n",
       "      <td>1</td>\n",
       "      <td>7910134</td>\n",
       "      <td>73001</td>\n",
       "      <td>IBAGUÉ</td>\n",
       "      <td>73001</td>\n",
       "      <td>8.955614</td>\n",
       "      <td>-75,1953679078</td>\n",
       "      <td>0.000000</td>\n",
       "    </tr>\n",
       "    <tr>\n",
       "      <th>4</th>\n",
       "      <td>1</td>\n",
       "      <td>56</td>\n",
       "      <td>3.0</td>\n",
       "      <td>2</td>\n",
       "      <td>0.0</td>\n",
       "      <td>0.0</td>\n",
       "      <td>1</td>\n",
       "      <td>4111.0</td>\n",
       "      <td>5.0</td>\n",
       "      <td>2.0</td>\n",
       "      <td>...</td>\n",
       "      <td>2.0</td>\n",
       "      <td>2</td>\n",
       "      <td>5</td>\n",
       "      <td>7910138</td>\n",
       "      <td>73001</td>\n",
       "      <td>IBAGUÉ</td>\n",
       "      <td>73001</td>\n",
       "      <td>8.955614</td>\n",
       "      <td>-75,1953679078</td>\n",
       "      <td>3.470000</td>\n",
       "    </tr>\n",
       "  </tbody>\n",
       "</table>\n",
       "<p>5 rows × 23 columns</p>\n",
       "</div>"
      ],
      "text/plain": [
       "   P6034  P6040  P6087  P8586  P6211  P1088  P6240  P6390S2  P6435  P6440  \\\n",
       "0      1     43    1.0      2    0.0    0.0      1   5619.0    4.0    2.0   \n",
       "1      1     33   10.0      2    0.0    0.0      1   9700.0    3.0    0.0   \n",
       "2      1     63    2.0      2    0.0    0.0      4   4792.0    5.0    2.0   \n",
       "3      1     81   10.0      2    0.0    0.0      4      0.0    0.0    0.0   \n",
       "4      1     56    3.0      2    0.0    0.0      1   4111.0    5.0    2.0   \n",
       "\n",
       "   ...  P8636  P8654  CANT_PERSONAS_HOGAR  DIRECTORIO   MPIO  NOMB_MUN  \\\n",
       "0  ...    2.0      2                    2     7910114  73001    IBAGUÉ   \n",
       "1  ...    2.0      2                    2     7910126  73001    IBAGUÉ   \n",
       "2  ...    2.0      2                    2     7910129  73001    IBAGUÉ   \n",
       "3  ...    0.0      2                    1     7910134  73001    IBAGUÉ   \n",
       "4  ...    2.0      2                    5     7910138  73001    IBAGUÉ   \n",
       "\n",
       "   COD_MPIO   LATITUD        LONGITUD  Total_ingresos  \n",
       "0     73001  8.955614  -75,1953679078        0.775000  \n",
       "1     73001  8.955614  -75,1953679078        0.840833  \n",
       "2     73001  8.955614  -75,1953679078        0.300000  \n",
       "3     73001  8.955614  -75,1953679078        0.000000  \n",
       "4     73001  8.955614  -75,1953679078        3.470000  \n",
       "\n",
       "[5 rows x 23 columns]"
      ]
     },
     "execution_count": 14,
     "metadata": {},
     "output_type": "execute_result"
    }
   ],
   "source": [
    "seleccion.head()"
   ]
  },
  {
   "cell_type": "code",
   "execution_count": 317,
   "metadata": {},
   "outputs": [
    {
     "name": "stderr",
     "output_type": "stream",
     "text": [
      "/home/manuel/Desktop/pROYECTO/.venv/lib/python3.8/site-packages/statsmodels/genmod/families/links.py:13: FutureWarning: The identity link alias is deprecated. Use Identity instead. The identity link alias will be removed after the 0.15.0 release.\n",
      "  warnings.warn(\n",
      "/home/manuel/Desktop/pROYECTO/.venv/lib/python3.8/site-packages/statsmodels/genmod/generalized_linear_model.py:1923: FutureWarning: The bic value is computed using the deviance formula. After 0.13 this will change to the log-likelihood based formula. This change has no impact on the relative rank of models compared using BIC. You can directly access the log-likelihood version using the `bic_llf` attribute. You can suppress this message by calling statsmodels.genmod.generalized_linear_model.SET_USE_BIC_LLF with True to get the LLF-based version now or False to retainthe deviance version.\n",
      "  warnings.warn(\n",
      "/home/manuel/Desktop/pROYECTO/.venv/lib/python3.8/site-packages/statsmodels/genmod/families/links.py:13: FutureWarning: The inverse_power link alias is deprecated. Use InversePower instead. The inverse_power link alias will be removed after the 0.15.0 release.\n",
      "  warnings.warn(\n"
     ]
    },
    {
     "name": "stdout",
     "output_type": "stream",
     "text": [
      "R² Modelo 1: 0.285 VS R² Modelo 2: -0.366\n",
      "MSE Modelo 1: 7.416 VS MSE Modelo 2: 14.167\n",
      "BIC Modelo 1: -8412.3 VS BIC Modelo 2: 23598.4\n"
     ]
    }
   ],
   "source": [
    "import statsmodels.api as sm\n",
    "from sklearn.model_selection import train_test_split\n",
    "from sklearn.metrics import mean_squared_error, r2_score\n",
    "\n",
    "# Preparación de datos\n",
    "\n",
    "\n",
    "data_model = seleccion[['P6034', 'P6040', 'P6087', 'P8586', 'P6211', 'P6240','P6390S2','P6435', \n",
    "                        'P6440', 'P6460', 'P6460S1', 'P8634', 'P8636','P8654','CANT_PERSONAS_HOGAR',\n",
    "                        'Total_ingresos']]\n",
    "\n",
    "X = data_model.drop(columns=['Total_ingresos'])\n",
    "y = data_model['Total_ingresos']\n",
    "\n",
    "X_train, X_test, y_train, y_test = train_test_split(X, y, test_size=0.2, random_state=42)\n",
    "\n",
    "# Modelo 1: Lineal Generalizado\n",
    "familia1 = sm.families.Gaussian\n",
    "enlace1 = sm.families.links.identity()\n",
    "\n",
    "modelo1 = sm.GLM(y_train, X_train, family=familia1(link=enlace1))\n",
    "resultados1 = modelo1.fit()\n",
    "\n",
    "y_pred1 = resultados1.predict(X_test)\n",
    "m1_r1 = r2_score(y_test, y_pred1)\n",
    "mse1 = mean_squared_error(y_test, y_pred1)\n",
    "bic1 = resultados1.bic\n",
    "\n",
    "# Modelo 2: Lineal Generalizado con enlace diferente\n",
    "familia2 = sm.families.Gaussian\n",
    "enlace2 = sm.families.links.inverse_power()\n",
    "\n",
    "modelo2 = sm.GLM(y_train, X_train, family=familia2(link=enlace2))\n",
    "resultados2 = modelo2.fit()\n",
    "\n",
    "bic2 = resultados2.bic\n",
    "y_pred2 = resultados2.predict(X_test)\n",
    "mse2 = mean_squared_error(y_test, y_pred2)\n",
    "m2_r2 = r2_score(y_test, y_pred2)\n",
    "\n",
    "# Comparación de modelos\n",
    "print(f'R² Modelo 1: {m1_r1:.3f} VS R² Modelo 2: {m2_r2:.3f}')\n",
    "print(f'MSE Modelo 1: {mse1:.3f} VS MSE Modelo 2: {mse2:.3f}')\n",
    "print(f'BIC Modelo 1: {bic1:.1f} VS BIC Modelo 2: {bic2:.1f}')\n"
   ]
  },
  {
   "cell_type": "code",
   "execution_count": 321,
   "metadata": {},
   "outputs": [
    {
     "name": "stdout",
     "output_type": "stream",
     "text": [
      "                 Generalized Linear Model Regression Results                  \n",
      "==============================================================================\n",
      "Dep. Variable:         Total_ingresos   No. Observations:                 5148\n",
      "Model:                            GLM   Df Residuals:                     5133\n",
      "Model Family:                Gaussian   Df Model:                           14\n",
      "Link Function:               identity   Scale:                          6.9075\n",
      "Method:                          IRLS   Log-Likelihood:                -12272.\n",
      "Date:                Mon, 20 Jan 2025   Deviance:                       35456.\n",
      "Time:                        21:53:25   Pearson chi2:                 3.55e+04\n",
      "No. Iterations:                     3   Pseudo R-squ. (CS):             0.3787\n",
      "Covariance Type:            nonrobust                                         \n",
      "=======================================================================================\n",
      "                          coef    std err          z      P>|z|      [0.025      0.975]\n",
      "---------------------------------------------------------------------------------------\n",
      "P6034                   1.8476      0.374      4.940      0.000       1.115       2.581\n",
      "P6040                   0.0338      0.003     12.583      0.000       0.028       0.039\n",
      "P6087                   0.0224      0.011      2.093      0.036       0.001       0.043\n",
      "P8586                  -1.6957      0.193     -8.778      0.000      -2.074      -1.317\n",
      "P6211                   0.7191      0.018     39.000      0.000       0.683       0.755\n",
      "P6240                  -0.0932      0.044     -2.141      0.032      -0.179      -0.008\n",
      "P6390S2              3.307e-05   1.68e-05      1.966      0.049    1.06e-07     6.6e-05\n",
      "P6435                  -0.0924      0.025     -3.670      0.000      -0.142      -0.043\n",
      "P6440                  -0.1158      0.076     -1.526      0.127      -0.265       0.033\n",
      "P6460                   0.2732      0.120      2.269      0.023       0.037       0.509\n",
      "P6460S1                -0.0111      0.005     -2.273      0.023      -0.021      -0.002\n",
      "P8634                  -0.0417      0.018     -2.263      0.024      -0.078      -0.006\n",
      "P8636                   0.3456      0.111      3.122      0.002       0.129       0.563\n",
      "P8654                   0.0739      0.061      1.217      0.224      -0.045       0.193\n",
      "CANT_PERSONAS_HOGAR     0.5704      0.028     20.437      0.000       0.516       0.625\n",
      "=======================================================================================\n"
     ]
    }
   ],
   "source": [
    "print(resultados1.summary())"
   ]
  },
  {
   "cell_type": "code",
   "execution_count": 322,
   "metadata": {},
   "outputs": [
    {
     "name": "stdout",
     "output_type": "stream",
     "text": [
      "                 Generalized Linear Model Regression Results                  \n",
      "==============================================================================\n",
      "Dep. Variable:         Total_ingresos   No. Observations:                 5148\n",
      "Model:                            GLM   Df Residuals:                     5133\n",
      "Model Family:                Gaussian   Df Model:                           14\n",
      "Link Function:          inverse_power   Scale:                          13.144\n",
      "Method:                          IRLS   Log-Likelihood:                -13928.\n",
      "Date:                Mon, 20 Jan 2025   Deviance:                       67467.\n",
      "Time:                        21:53:25   Pearson chi2:                 6.75e+04\n",
      "No. Iterations:                   100   Pseudo R-squ. (CS):            -0.2498\n",
      "Covariance Type:            nonrobust                                         \n",
      "=======================================================================================\n",
      "                          coef    std err          z      P>|z|      [0.025      0.975]\n",
      "---------------------------------------------------------------------------------------\n",
      "P6034                   0.4669      0.022     21.361      0.000       0.424       0.510\n",
      "P6040                  -0.0063      0.000    -32.068      0.000      -0.007      -0.006\n",
      "P6087                  -0.0278      0.001    -25.826      0.000      -0.030      -0.026\n",
      "P8586                   0.3750      0.014     27.221      0.000       0.348       0.402\n",
      "P6211                  -0.0648      0.002    -36.725      0.000      -0.068      -0.061\n",
      "P6240                   0.0513      0.002     26.425      0.000       0.047       0.055\n",
      "P6390S2             -2.577e-06   9.59e-07     -2.687      0.007   -4.46e-06   -6.97e-07\n",
      "P6435                  -0.0079      0.005     -1.587      0.113      -0.018       0.002\n",
      "P6440                   0.0065      0.011      0.582      0.561      -0.015       0.028\n",
      "P6460                  -0.1319      0.013    -10.058      0.000      -0.158      -0.106\n",
      "P6460S1                 0.0181      0.001     12.480      0.000       0.015       0.021\n",
      "P8634                   0.0760      0.003     26.974      0.000       0.071       0.082\n",
      "P8636                   0.1051      0.006     18.242      0.000       0.094       0.116\n",
      "P8654                4.025e-06      0.003      0.001      0.999      -0.006       0.006\n",
      "CANT_PERSONAS_HOGAR    -0.0907      0.002    -39.386      0.000      -0.095      -0.086\n",
      "=======================================================================================\n"
     ]
    }
   ],
   "source": [
    "print(resultados2.summary())"
   ]
  },
  {
   "cell_type": "code",
   "execution_count": 323,
   "metadata": {},
   "outputs": [
    {
     "name": "stderr",
     "output_type": "stream",
     "text": [
      "/home/manuel/Desktop/pROYECTO/.venv/lib/python3.8/site-packages/scipy/stats/_morestats.py:1816: UserWarning: p-value may not be accurate for N > 5000.\n",
      "  warnings.warn(\"p-value may not be accurate for N > 5000.\")\n"
     ]
    },
    {
     "name": "stdout",
     "output_type": "stream",
     "text": [
      "Se rechaza la hipótesis nula, con un valor p de 0.00\n"
     ]
    },
    {
     "data": {
      "text/plain": [
       "'\\\\begin{tabular}{lrrr}\\n\\\\toprule\\n & \\\\multicolumn{3}{r}{Total_ingresos} \\\\\\\\\\n & mean & std & count \\\\\\\\\\nNOMB_MUN &  &  &  \\\\\\\\\\n\\\\midrule\\nANOLAIMA & 1.737813 & 1.895194 & 65 \\\\\\\\\\nARBELÁEZ & 1.624899 & 1.580806 & 61 \\\\\\\\\\nBITUIMA & 0.755000 & 0.670440 & 63 \\\\\\\\\\nBOGOTÁ, D.C. & 3.453094 & 3.860834 & 2807 \\\\\\\\\\nCAJICÁ & 6.621560 & 5.608759 & 97 \\\\\\\\\\nCHOCONTÁ & 1.014162 & 0.930680 & 72 \\\\\\\\\\nCHÍA & 3.171590 & 2.986858 & 135 \\\\\\\\\\nCOGUA & 1.624433 & 0.952108 & 71 \\\\\\\\\\nCOTA & 1.741229 & 1.513094 & 59 \\\\\\\\\\nFACATATIVÁ & 2.539200 & 2.739295 & 159 \\\\\\\\\\nFUNZA & 2.751376 & 2.584702 & 135 \\\\\\\\\\nFUSAGASUGÁ & 2.040196 & 1.553850 & 163 \\\\\\\\\\nGACHANCIPÁ & 2.328723 & 2.413825 & 108 \\\\\\\\\\nGIRARDOT & 1.870108 & 1.837786 & 129 \\\\\\\\\\nGUACHETÁ & 1.501525 & 1.390410 & 72 \\\\\\\\\\nGUADUAS & 1.160069 & 0.708917 & 58 \\\\\\\\\\nGUASCA & 1.794558 & 1.255563 & 60 \\\\\\\\\\nGUTIÉRREZ & 1.107513 & 0.910354 & 72 \\\\\\\\\\nLA CALERA & 2.364720 & 2.923900 & 70 \\\\\\\\\\nLA MESA & 1.710072 & 1.009771 & 69 \\\\\\\\\\nMADRID & 3.564286 & 3.106983 & 133 \\\\\\\\\\nMANTA & 0.769921 & 0.838733 & 72 \\\\\\\\\\nMEDINA & 1.113636 & 1.132407 & 44 \\\\\\\\\\nMOSQUERA & 2.900022 & 2.545273 & 161 \\\\\\\\\\nNILO & 1.774741 & 1.705433 & 47 \\\\\\\\\\nPACHO & 1.484228 & 1.637753 & 96 \\\\\\\\\\nRICAURTE & 1.469272 & 0.946368 & 64 \\\\\\\\\\nSAN FRANCISCO & 3.102078 & 3.349369 & 40 \\\\\\\\\\nSIBATÉ & 2.064870 & 1.418986 & 36 \\\\\\\\\\nSOACHA & 1.993072 & 1.676383 & 513 \\\\\\\\\\nSOPÓ & 2.035058 & 1.267150 & 61 \\\\\\\\\\nSUBACHOQUE & 2.747257 & 1.316775 & 48 \\\\\\\\\\nTENA & 1.715796 & 0.974265 & 68 \\\\\\\\\\nTENJO & 2.769328 & 2.652670 & 42 \\\\\\\\\\nTIBACUY & 1.208530 & 0.747652 & 72 \\\\\\\\\\nUNE & 1.264082 & 1.517554 & 61 \\\\\\\\\\nVERGARA & 1.151475 & 1.961325 & 61 \\\\\\\\\\nVILLAPINZÓN & 0.999643 & 1.100262 & 112 \\\\\\\\\\nVILLETA & 2.497065 & 2.507593 & 41 \\\\\\\\\\nZIPAQUIRÁ & 3.453319 & 3.687752 & 139 \\\\\\\\\\n\\\\bottomrule\\n\\\\end{tabular}\\n'"
      ]
     },
     "execution_count": 323,
     "metadata": {},
     "output_type": "execute_result"
    }
   ],
   "source": [
    "# Se evalua la normalidad en la variable de respuesta\n",
    "\n",
    "st_pagos = stats.shapiro(seleccion['Total_ingresos'])\n",
    "\n",
    "if st_pagos.pvalue > 0.05:\n",
    "    print(f'Se acepta la hipótesis nula, con un valor p de {st_pagos.pvalue:.2f}')\n",
    "else:\n",
    "    print(f'Se rechaza la hipótesis nula, con un valor p de {st_pagos.pvalue:.2f}')\n",
    "\n",
    "# TABLA RESUMEN DE LOS INGRESOS TOTALES\n",
    "seleccion[['Total_ingresos']].describe().to_latex()\n",
    "\n",
    "# TABLA RESUMEND E INGRESOS TOTALLES POR DEPARTAMENTO\n",
    "resumen_mun = seleccion.groupby('NOMB_MUN').agg({\n",
    "    'Total_ingresos': ['mean', 'std', 'count']\n",
    "})\n",
    "\n",
    "resumen_mun.to_latex()\n"
   ]
  },
  {
   "cell_type": "code",
   "execution_count": 319,
   "metadata": {},
   "outputs": [],
   "source": [
    "import libpysal as ps\n",
    "from esda import Moran, Moran_Local\n",
    "\n",
    "# ESTA ES LA BASE CON QUE SE REALIZA LOS GRAFICOS Y LOS ESTUDIOS DE DEPENDENCIA ESPACIAL\n",
    "cart = seleccion.groupby(['NOMB_MUN','COD_MPIO','LATITUD','LONGITUD']).agg(MEDIA = ('Total_ingresos','mean')).reset_index()\n",
    "\n"
   ]
  },
  {
   "cell_type": "code",
   "execution_count": 320,
   "metadata": {},
   "outputs": [
    {
     "name": "stderr",
     "output_type": "stream",
     "text": [
      "/home/manuel/Desktop/pROYECTO/.venv/lib/python3.8/site-packages/geopandas/plotting.py:48: ShapelyDeprecationWarning: The 'type' attribute is deprecated, and will be removed in the future. You can use the 'geom_type' attribute instead.\n",
      "  if geom is not None and geom.type.startswith(prefix) and not geom.is_empty:\n"
     ]
    },
    {
     "data": {
      "image/png": "[encoded data removed]",
      "text/plain": [
       "<Figure size 800x800 with 2 Axes>"
      ]
     },
     "metadata": {},
     "output_type": "display_data"
    }
   ],
   "source": [
    "gdf = gpd.read_file('Mapas/Municipio, Distrito y Area no municipalizada.shp')\n",
    "gdf = gdf[gdf['Depto'] == 'Cundinamarca']\n",
    "\n",
    "gdf['MpCodigo'] = pd.to_numeric(gdf['MpCodigo'], errors='coerce')\n",
    "df_ = gdf.merge(cart,left_on='MpCodigo', right_on='COD_MPIO', how='inner')\n",
    "\n",
    "\n",
    "# GRAFICO DE LOS INGRESOS PROMEDIOS POR MUNICIPIO\n",
    "fig, ax = plt.subplots(1, 1, figsize=(8, 8))\n",
    "\n",
    "gdf.plot(ax=ax, color='white', edgecolor='black')\n",
    "df_.plot(column='MEDIA', ax=ax, legend=True,edgecolor='black',\n",
    "         legend_kwds={'label': \"MEDIA\",\n",
    "                      'orientation': \"vertical\"})\n",
    "plt.title(\"INGRESOS MEDIOS CUNDINAMARCA\", fontsize=16)\n",
    "plt.show()"
   ]
  },
  {
   "cell_type": "code",
   "execution_count": 324,
   "metadata": {},
   "outputs": [
    {
     "name": "stderr",
     "output_type": "stream",
     "text": [
      "/tmp/ipykernel_9687/3257505548.py:1: FutureWarning: `use_index` defaults to False but will default to True in future. Set True/False directly to control this behavior and silence this warning\n",
      "  wq =  ps.weights.Queen.from_dataframe(df_)\n"
     ]
    },
    {
     "name": "stdout",
     "output_type": "stream",
     "text": [
      "('WARNING: ', 10, ' is an island (no neighbors)')\n",
      "('WARNING: ', 24, ' is an island (no neighbors)')\n",
      "('WARNING: ', 34, ' is an island (no neighbors)')\n",
      "El indice de Morgan General es de : 0.30\n",
      "El valor p para el sistema de hipótesis es de 0.019\n"
     ]
    },
    {
     "name": "stderr",
     "output_type": "stream",
     "text": [
      "/home/manuel/Desktop/pROYECTO/.venv/lib/python3.8/site-packages/libpysal/weights/weights.py:224: UserWarning: The weights matrix is not fully connected: \n",
      " There are 6 disconnected components.\n",
      " There are 3 islands with ids: 10, 24, 34.\n",
      "  warnings.warn(message)\n"
     ]
    }
   ],
   "source": [
    "wq =  ps.weights.Queen.from_dataframe(df_)\n",
    "wq.transform = 'r'\n",
    "\n",
    "moran = Moran(df_['MEDIA'],wq)\n",
    "\n",
    "print(f'El indice de Morgan General es de : {moran.I:.2f}')\n",
    "print(f'El valor p para el sistema de hipótesis es de {moran.p_sim}') # si hay diferencia espacial\n",
    "\n",
    "\n",
    "El indice de Morgan General es de : 0.30\n",
    "El valor p para el sistema de hipótesis es de 0.019\n"
   ]
  },
  {
   "cell_type": "code",
   "execution_count": null,
   "metadata": {},
   "outputs": [],
   "source": [
    "if moran.p_sim < 0.05:\n",
    "    print(f'Con un valor de {moran.p_sim:.3f}, se rechaza la hipótesis nula H0: I=0. Entonces, existe dependencia espacial.')\n"
   ]
  },
  {
   "cell_type": "code",
   "execution_count": null,
   "metadata": {},
   "outputs": [],
   "source": [
    "# Calcular el índice de Moran Local para la variable 'MEDIA'\n",
    "ml = esda.Moran_Local(df_['MEDIA'], wq)\n",
    "\n",
    "# Acceder a los valores p de la simulación\n",
    "p_values = ml.p_sim\n",
    "\n",
    "# Asumiendo que ya tienes el GeoDataFrame df_ con los resultados de Moran's I Local\n",
    "df_['moran_local'] = ml.p_sim  # Añadir el resultado de Moran's I Local al GeoDataFrame\n",
    "\n",
    "# Graficar en el mapa\n",
    "fig, ax = plt.subplots(1, 1, figsize=(8, 8))\n",
    "gdf.plot(ax=ax, color='white', edgecolor='black')\n",
    "df_.plot(column='moran_local', ax=ax, legend=True,edgecolor='black',\n",
    "         legend_kwds={'label': \"Moran's I Local\",\n",
    "                      'orientation': \"horizontal\"})\n",
    "plt.title(\"Mapa de Moran's I Local\", fontsize=10)\n",
    "plt.show()"
   ]
  },
  {
   "cell_type": "code",
   "execution_count": 285,
   "metadata": {},
   "outputs": [
    {
     "name": "stderr",
     "output_type": "stream",
     "text": [
      "/home/manuel/Desktop/pROYECTO/.venv/lib/python3.8/site-packages/statsmodels/genmod/families/links.py:13: FutureWarning: The identity link alias is deprecated. Use Identity instead. The identity link alias will be removed after the 0.15.0 release.\n",
      "  warnings.warn(\n"
     ]
    },
    {
     "name": "stdout",
     "output_type": "stream",
     "text": [
      "R² Modelo 1: 0.250 | R² Modelo 3: 0.251\n",
      "MSE Modelo 1: 2.845 | MSE Modelo 3: 2.844\n",
      "BIC Modelo 1: -29798.1 vs BIC Modelo 3: -29793.8\n"
     ]
    },
    {
     "name": "stderr",
     "output_type": "stream",
     "text": [
      "/home/manuel/Desktop/pROYECTO/.venv/lib/python3.8/site-packages/statsmodels/genmod/generalized_linear_model.py:1923: FutureWarning: The bic value is computed using the deviance formula. After 0.13 this will change to the log-likelihood based formula. This change has no impact on the relative rank of models compared using BIC. You can directly access the log-likelihood version using the `bic_llf` attribute. You can suppress this message by calling statsmodels.genmod.generalized_linear_model.SET_USE_BIC_LLF with True to get the LLF-based version now or False to retainthe deviance version.\n",
      "  warnings.warn(\n"
     ]
    }
   ],
   "source": [
    "# MODELO 3 LINEAL GENERALIZADO\n",
    "data_model  = seleccion[['P6260','P6460','CANT_PERSONAS_HOGAR','P3193S3','P6020','P6040','P6087','P6240','P6390S2','P6435',\n",
    "                       'P6440','P6460S1','P7250','P8587','P8634','P8636','P8654','Total_ingresos','LATITUD','LONGITUD']]\n",
    "\n",
    "X = data_model.drop(columns = ['Total_ingresos'])\n",
    "y = data_model['Total_ingresos']\n",
    "\n",
    "X_train, X_test, y_train, y_test = train_test_split(X, y, test_size=0.2, random_state=42)\n",
    "\n",
    "\n",
    "familia = sm.families.Gaussian\n",
    "funcion_enalce = sm.families.links.identity()\n",
    "\n",
    "modelo3 = sm.GLM(y_train, X_train, family=familia(link=funcion_enalce))\n",
    "resultados3 = modelo3.fit()\n",
    "# resultados3.summary()\n",
    "\n",
    "bic3 = resultados3.bic\n",
    "y_pred3 = resultados3.predict(X_test)\n",
    "mse3 = mean_squared_error(y_test, y_pred3)\n",
    "m3_r2 = r2_score(y_test, y_pred3)\n",
    "\n",
    "# Comparación de modelos\n",
    "print(f'R² Modelo 1: {m1_r1:.3f} | R² Modelo 3: {m3_r2:.3f}')\n",
    "print(f'MSE Modelo 1: {mse1:.3f} | MSE Modelo 3: {mse3:.3f}')\n",
    "print(f'BIC Modelo 1: {bic1:.1f} vs BIC Modelo 3: {bic3:.1f}')\n",
    "\n"
   ]
  },
  {
   "cell_type": "code",
   "execution_count": null,
   "metadata": {},
   "outputs": [],
   "source": []
  },
  {
   "cell_type": "code",
   "execution_count": null,
   "metadata": {},
   "outputs": [],
   "source": []
  },
  {
   "cell_type": "code",
   "execution_count": null,
   "metadata": {},
   "outputs": [],
   "source": []
  },
  {
   "cell_type": "code",
   "execution_count": null,
   "metadata": {},
   "outputs": [],
   "source": []
  },
  {
   "cell_type": "markdown",
   "metadata": {},
   "source": [
    "MODELO DE REGRESION LINEAL GENERALIZADO"
   ]
  },
  {
   "cell_type": "code",
   "execution_count": 98,
   "metadata": {},
   "outputs": [],
   "source": []
  },
  {
   "cell_type": "code",
   "execution_count": 100,
   "metadata": {},
   "outputs": [],
   "source": []
  },
  {
   "cell_type": "code",
   "execution_count": null,
   "metadata": {},
   "outputs": [],
   "source": [
    "df_model = seleccion[[ 'P6020', 'P6040', 'P6087', 'P6160','P8586', 'P8587', 'P6211', 'P1088', 'P6216', 'P5673', 'P6240', 'P6250',\n",
    "            'P6260', 'P6280', 'P6370S2', 'P6390S2', 'P6435', 'P6440', 'P6450','P6460', 'P6460S1', 'P8632', 'P8634',\n",
    "            'P3193S3', 'P8636', 'P7250','P7270S2', 'P8654', 'CANT_PERSONAS_HOGAR','Total_ingresos']]\n",
    "\n",
    "X = df_model.drop(columns = ['Total_ingresos'])\n",
    "y = df_model['Total_ingresos']\n",
    "\n",
    "familia = sm.families.Gaussian\n",
    "funcion_enalce = sm.families.links.identity()\n",
    "\n",
    "modelo1 = sm.GLM(y, X, family=familia(link=funcion_enalce))\n",
    "resultados = modelo1.fit()\n",
    "# VARIABLES NO SIGNIFICATIVAS PARA EL MODELO\n",
    "n_sg = resultados.pvalues[resultados.pvalues > 0.05]\n",
    "\n",
    "#VARIABLES SIGNIFICAIVAS PARA EL MODELO\n",
    "sg = resultados.pvalues[resultados.pvalues <= 0.05]"
   ]
  },
  {
   "cell_type": "code",
   "execution_count": null,
   "metadata": {},
   "outputs": [],
   "source": [
    "print(resultados.summary())"
   ]
  },
  {
   "cell_type": "code",
   "execution_count": null,
   "metadata": {},
   "outputs": [],
   "source": [
    "import pandas as pd\n",
    "from sklearn.model_selection import train_test_split\n",
    "from sklearn.linear_model import LinearRegression\n",
    "from sklearn.metrics import mean_squared_error, r2_score\n",
    "from sklearn.preprocessing import StandardScaler\n",
    "\n",
    "# Preparar los datos\n",
    "df_model = seleccion[['P6020', 'P6040', 'P6087', 'P6160', 'P8586', 'P8587', 'P6211', 'P1088', 'P6216', 'P5673', \n",
    "                      'P6240', 'P6250', 'P6260', 'P6280', 'P6370S2', 'P6390S2', 'P6435', 'P6440', 'P6450', \n",
    "                      'P6460', 'P6460S1', 'P8632', 'P8634', 'P3193S3', 'P8636', 'P7250', 'P7270S2', 'P8654', \n",
    "                      'CANT_PERSONAS_HOGAR', 'Total_ingresos']]\n",
    "\n",
    "X = df_model.drop(columns=['Total_ingresos'])\n",
    "y = df_model['Total_ingresos']\n",
    "\n",
    "# Dividir en entrenamiento y prueba\n",
    "X_train, X_test, y_train, y_test = train_test_split(X, y, test_size=0.2, random_state=42)\n",
    "\n",
    "# Inicializar el modelo de regresión lineal\n",
    "model = LinearRegression()\n",
    "\n",
    "# Entrenar el modelo\n",
    "model.fit(X_train, y_train)\n",
    "\n",
    "# Realizar predicciones\n",
    "y_pred = model.predict(X_test)\n",
    "\n",
    "# Calcular las métricas\n",
    "mse = mean_squared_error(y_test, y_pred)\n",
    "r2 = r2_score(y_test, y_pred)\n",
    "\n",
    "print(f\"Mean Squared Error: {mse}\")\n",
    "print(f\"R-squared: {r2}\")\n"
   ]
  },
  {
   "cell_type": "code",
   "execution_count": null,
   "metadata": {},
   "outputs": [],
   "source": []
  },
  {
   "cell_type": "code",
   "execution_count": null,
   "metadata": {},
   "outputs": [],
   "source": [
    "X = df_model[sg.index]\n",
    "y = y \n",
    "\n",
    "modelo2 = sm.GLM(y, X, family=familia(link=funcion_enalce))\n",
    "resultados2 = modelo2.fit()\n",
    "\n",
    "resultados2.summary()\n"
   ]
  },
  {
   "cell_type": "code",
   "execution_count": null,
   "metadata": {},
   "outputs": [],
   "source": []
  },
  {
   "cell_type": "code",
   "execution_count": null,
   "metadata": {},
   "outputs": [],
   "source": [
    "\n",
    "\n",
    "def ajustar_y_evaluar(X, y, distribucion='Gaussian', enlace='identity'):\n",
    "    # Ajuste del modelo GLM\n",
    "#    familia = getattr(sm.families, distribucion)()\n",
    "    familia = sm.families.Gaussian\n",
    "#    funcion_enlace = getattr(sm.families.links, enlace)()\n",
    "    funcion_enalce = sm.families.links.Identity\n",
    "    modelo = sm.GLM(y, X, family=familia(link=funcion_enalce))\n",
    "    resultados = modelo.fit()\n",
    "\n",
    "    # Evaluación de supuestos\n",
    "    residuos = resultados.resid_response\n",
    "    \n",
    "    # Residuos vs valores ajustados (homocedasticidad)\n",
    "    plt.subplot(1, 2, 1)\n",
    "    plt.scatter(resultados.fittedvalues, residuos)\n",
    "    plt.axhline(y=0, color='r', linestyle='--')\n",
    "    plt.xlabel('Valores Ajustados')\n",
    "    plt.ylabel('Residuos')\n",
    "    \n",
    "    # Histograma de residuos (normalidad)\n",
    "    plt.subplot(1, 2, 2)\n",
    "    sns.histplot(residuos, kde=True, color='blue')\n",
    "    plt.title('Distribución de Residuos')\n",
    "    plt.tight_layout()\n",
    "    plt.show()\n",
    "\n",
    "    # Prueba de Shapiro-Wilk (normalidad)\n",
    "    shapiro_test = stats.shapiro(residuos)\n",
    "    print(f\"Prueba Shapiro-Wilk: Estadístico = {shapiro_test.statistic}, p-value = {shapiro_test.pvalue}\")\n",
    "\n",
    "    # Prueba de Breusch-Pagan (heterocedasticidad)\n",
    "    X_const = add_constant(X)\n",
    "    bp_test = het_breuschpagan(residuos, X_const)\n",
    "    print(f\"Prueba Breusch-Pagan: Estadístico = {bp_test[0]}, p-value = {bp_test[1]}\")\n",
    "\n",
    "    # VIF (multicolinealidad)\n",
    "    vif_data = pd.DataFrame()\n",
    "    vif_data[\"Variable\"] = X_const.columns\n",
    "    vif_data[\"VIF\"] = [variance_inflation_factor(X_const.values, i) for i in range(X_const.shape[1])]\n",
    "    print(vif_data)\n",
    "\n",
    "    # Durbin-Watson (autocorrelación)\n",
    "    dw_stat = sm.stats.durbin_watson(residuos)\n",
    "    print(f\"Estadístico Durbin-Watson: {dw_stat}\")\n",
    "    \n",
    "    return resultados\n",
    "\n",
    "# Ejemplo de uso\n",
    "X = df_model[['P6020', 'P6040', 'P6087', 'P6160', 'P8586', 'P8587', 'P6211', 'P1088', 'P6216', 'P5673', 'P6240', 'P6250', 'P6260', 'P6280', 'P6370S2', 'P6390S2', 'P6435', 'P6440', 'P6450', 'P6460', 'P6460S1', 'P8632', 'P8634', 'P3193S3', 'P8636', 'P7250', 'P7270S2', 'P8654', 'CANT_PERSONAS_HOGAR']]\n",
    "y = df_model['Total_ingresos']\n",
    "\n",
    "resultados = ajustar_y_evaluar(X, y, distribucion='Gaussian', enlace='identity')\n",
    "print(resultados.summary())\n"
   ]
  },
  {
   "cell_type": "code",
   "execution_count": null,
   "metadata": {},
   "outputs": [],
   "source": [
    "# MODELO CON LA GAUSSIANA FUNCION DE IDENTIDAD IDENTIDAD\n",
    "\n",
    "X = df_model[['P6020', 'P6040', 'P6087', 'P6160', 'P8586', 'P8587', 'P6211', 'P1088',\n",
    "       'P6216', 'P5673', 'P6240', 'P6250', 'P6260', 'P6280', 'P6370S2',\n",
    "       'P6390S2', 'P6435', 'P6440', 'P6450', 'P6460', 'P6460S1', 'P8632',\n",
    "       'P8634', 'P3193S3', 'P8636', 'P7250', 'P7270S2', 'P8654',\n",
    "       'CANT_PERSONAS_HOGAR']]\n",
    "\n",
    "y = df_model.loc[:,'Total_ingresos']\n",
    "\n",
    "normal_model = sm.GLM(y, X, family=sm.families.Gaussian(link=sm.families.links.Identity()))\n",
    "normal_results =  normal_model.fit()\n",
    "print(normal_results.summary())\n"
   ]
  },
  {
   "cell_type": "code",
   "execution_count": null,
   "metadata": {},
   "outputs": [],
   "source": [
    "import numpy as np\n",
    "import pandas as pd\n",
    "import statsmodels.api as sm\n",
    "from statsmodels.stats.diagnostic import het_breuschpagan\n",
    "from statsmodels.stats.outliers_influence import variance_inflation_factor\n",
    "from statsmodels.tools.tools import add_constant\n",
    "from scipy import stats\n",
    "\n",
    "def evaluar_supositos_glm(normal_results, X, y):\n",
    "    # Usar los residuos de Pearson\n",
    "    residuos = normal_results.resid_pearson\n",
    "    \n",
    "    # 1. Prueba de Shapiro-Wilk (Normalidad)\n",
    "    shapiro_test = stats.shapiro(residuos)\n",
    "    print(f\"Prueba Shapiro-Wilk: Estadístico = {shapiro_test.statistic}, p-value = {shapiro_test.pvalue}\")\n",
    "    if shapiro_test.pvalue < 0.05:\n",
    "        print(\"Se rechaza la hipótesis nula: Los residuos no siguen una distribución normal.\")\n",
    "    else:\n",
    "        print(\"No se rechaza la hipótesis nula: Los residuos siguen una distribución normal.\")\n",
    "    \n",
    "    # 2. Prueba de Breusch-Pagan (Heterocedasticidad)\n",
    "    X_const = add_constant(X)  # Agregar constante (intercepto)\n",
    "    bp_test = het_breuschpagan(residuos, X_const)\n",
    "    print(f\"Prueba Breusch-Pagan: Estadístico = {bp_test[0]}, p-value = {bp_test[1]}\")\n",
    "    if bp_test[1] < 0.05:\n",
    "        print(\"Se rechaza la hipótesis nula: Hay heterocedasticidad (varianza no constante de los residuos).\")\n",
    "    else:\n",
    "        print(\"No se rechaza la hipótesis nula: No hay evidencia de heterocedasticidad.\")\n",
    "    \n",
    "    # 3. Multicolinealidad (VIF)\n",
    "    vif_data = pd.DataFrame()\n",
    "    vif_data[\"Variable\"] = X_const.columns\n",
    "    vif_data[\"VIF\"] = [variance_inflation_factor(X_const.values, i) for i in range(X_const.shape[1])]\n",
    "    print(\"VIF de las variables:\")\n",
    "    print(vif_data)\n",
    "    if any(vif_data[\"VIF\"] > 10):\n",
    "        print(\"Se rechaza la hipótesis nula: Hay multicolinealidad en el modelo.\")\n",
    "    else:\n",
    "        print(\"No se rechaza la hipótesis nula: No hay problemas de multicolinealidad.\")\n",
    "    \n",
    "    # 4. Durbin-Watson (Autocorrelación)\n",
    "    dw_stat = sm.stats.durbin_watson(residuos)\n",
    "    print(f\"Estadístico Durbin-Watson: {dw_stat}\")\n",
    "    if dw_stat < 1.5 or dw_stat > 2.5:\n",
    "        print(\"Se rechaza la hipótesis nula: Hay autocorrelación en los residuos.\")\n",
    "    else:\n",
    "        print(\"No se rechaza la hipótesis nula: No hay autocorrelación en los residuos.\")\n",
    "\n",
    "\n",
    "normal_results = normal_model.fit()\n",
    "\n",
    "# Evaluar los supuestos\n",
    "evaluar_supositos_glm(normal_results, X, y)\n"
   ]
  },
  {
   "cell_type": "code",
   "execution_count": null,
   "metadata": {},
   "outputs": [],
   "source": [
    "from sklearn.model_selection import cross_val_score\n",
    "from sklearn.linear_model import LinearRegression\n",
    "\n",
    "# Modelo original\n",
    "model_original = LinearRegression()\n",
    "score_original = cross_val_score(model_original, X, y, cv=5, scoring='neg_mean_squared_error')\n",
    "print(f\"Modelo original - Validación cruzada: {-score_original.mean()}\")\n",
    "\n",
    "# Modelo reducido\n",
    "model_reducido = LinearRegression()\n",
    "score_reducido = cross_val_score(model_reducido, X_reducido, y, cv=5, scoring='neg_mean_squared_error')\n",
    "print(f\"Modelo reducido - Validación cruzada: {-score_reducido.mean()}\")\n"
   ]
  },
  {
   "cell_type": "markdown",
   "metadata": {},
   "source": [
    "# MODELO ORIGINAL\n"
   ]
  },
  {
   "cell_type": "code",
   "execution_count": null,
   "metadata": {},
   "outputs": [],
   "source": [
    "\n",
    "modelo = LinearRegression()\n",
    "modelo.fit()"
   ]
  }
 ],
 "metadata": {
  "kernelspec": {
   "display_name": ".venv",
   "language": "python",
   "name": "python3"
  },
  "language_info": {
   "codemirror_mode": {
    "name": "ipython",
    "version": 3
   },
   "file_extension": ".py",
   "mimetype": "text/x-python",
   "name": "python",
   "nbconvert_exporter": "python",
   "pygments_lexer": "ipython3",
   "version": "3.8.10"
  }
 },
 "nbformat": 4,
 "nbformat_minor": 2
}

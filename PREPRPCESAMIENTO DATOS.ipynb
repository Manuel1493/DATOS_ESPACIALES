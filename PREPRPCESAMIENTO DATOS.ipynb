{
 "cells": [
  {
   "cell_type": "code",
   "execution_count": 84,
   "metadata": {},
   "outputs": [],
   "source": [
    "import libpysal as ps\n",
    "import geopandas as gpd\n",
    "import splot\n",
    "import matplotlib.pyplot as plt\n",
    "import esda\n",
    "import pandas as pd\n",
    "import seaborn as sns\n",
    "import numpy as np\n",
    "import sqlite3 as sq\n",
    "import statsmodels.api as sm\n",
    "import pandas as pd\n",
    "from sklearn.model_selection import train_test_split\n",
    "from sklearn.metrics import mean_squared_error, mean_absolute_error, r2_score\n",
    "import numpy as np\n",
    "import pandas as pd\n",
    "import statsmodels.api as sm\n",
    "import seaborn as sns\n",
    "import matplotlib.pyplot as plt\n",
    "from statsmodels.stats.diagnostic import het_breuschpagan\n",
    "from statsmodels.stats.outliers_influence import variance_inflation_factor\n",
    "from statsmodels.tools.tools import add_constant\n",
    "from scipy import stats\n",
    "from sklearn.metrics import accuracy_score, classification_report, confusion_matrix\n",
    "\n",
    "\n"
   ]
  },
  {
   "cell_type": "code",
   "execution_count": 85,
   "metadata": {},
   "outputs": [],
   "source": [
    "\n",
    "conn = sq.connect('/home/manuel/Desktop/pROYECTO/database.db')\n",
    "\n",
    "\n",
    "# CARGA DE DATOS PARA PRIMER ANALISIS, TOTAL INGRESOS POR LOCALIDADES DE CUNDINAMARCA\n",
    "\n",
    "#Caracteristicas\n",
    "caracteristicas = pd.read_sql('SELECT * FROM Caracteristicas', conn)\n",
    "#Educacion\n",
    "Educacion = pd.read_sql('SELECT * FROM Educacion', conn)\n",
    "#Trabajo\n",
    "Trabajo = pd.read_sql('SELECT * FROM Trabajo', conn)\n",
    "#Atencion_infancia\n",
    "Codigos = pd.read_sql('SELECT * FROM Codigos', conn)\n",
    "#Educacion\n",
    "Educacion = pd.read_sql('SELECT * FROM Educacion', conn)\n",
    "#Vivienda\n",
    "Vivienda = pd.read_sql('SELECT * FROM Vivienda', conn)\n",
    "#Con_vida\n",
    "Con_vida = pd.read_sql('SELECT * FROM Con_vida', conn)\n",
    "#variebles\n",
    "Variables = pd.read_sql('SELECT * FROM variebles', conn)\n",
    "# servicion hogar\n",
    "servicios_hogar = pd.read_sql('SELECT * FROM Servicios_hogar', conn)\n"
   ]
  },
  {
   "cell_type": "code",
   "execution_count": 86,
   "metadata": {},
   "outputs": [],
   "source": [
    "Variables_ = Variables[['DIRECTORIO', 'SECUENCIA_P', 'ORDEN', 'MPIO', 'SEGMENTO']]\n",
    "Caracteristicas_ = caracteristicas[['DIRECTORIO', 'SECUENCIA_ENCUESTA', 'SECUENCIA_P', 'ORDEN', 'P6020', 'P6034', 'P6040', 'P6087']]\n",
    "Educacion_ = Educacion[['DIRECTORIO', 'SECUENCIA_ENCUESTA', 'SECUENCIA_P', 'ORDEN', 'P6160', 'P8586',  'P8587',  'P6211', 'P1088', 'P6216','P5673']]\n",
    "Trabajo_ = Trabajo[['DIRECTORIO', 'SECUENCIA_ENCUESTA', 'SECUENCIA_P', 'ORDEN', \"P421S2\",\"P6240\", \"P6390S2\",\"P6435\",\"P6426\", \"P6440\",\"P6460\",\n",
    "                    \"P6460S1\",\"P8634\", \"P8636\", \"P8636S1\",\"P8640\",\"P8640S1\",\"P8654\",\"P8654S1\"]]\n",
    "\n",
    "Servicios_ = servicios_hogar[['DIRECTORIO', 'SECUENCIA_ENCUESTA', 'SECUENCIA_P', 'ORDEN', 'I_HOGAR' ,'PERCAPITA', 'CANT_PERSONAS_HOGAR']]\n",
    "Codigos = pd.read_sql('SELECT * FROM Codigos', conn)\n",
    "Codigos_ = (Codigos[[ 'COD_MPIO', 'NOMB_DEP','NOMB_MUN', 'LONGITUD',  'LATITUD']]\n",
    "  .groupby(['NOMB_DEP','NOMB_MUN','COD_MPIO'])\n",
    "  .agg(LATITUD = ('LATITUD','first'), LONGITUD = ('LONGITUD','first'))\n",
    "  .reset_index()\n",
    " )\n",
    "\n",
    "Codigos.loc[:,'LONGITUD'] = Codigos['LONGITUD'].replace(\",\",\".\",regex = True).astype(float)\n",
    "Codigos_.loc[:,'LATITUD'] = Codigos['LATITUD'].replace(\",\",\".\",regex = True).astype(float)\n",
    "\n",
    "data = (Variables_\n",
    " .merge(Caracteristicas_, how='inner', on=['DIRECTORIO', 'SECUENCIA_P', 'ORDEN'])\n",
    " .merge(Educacion_, how='inner', on=['DIRECTORIO', 'SECUENCIA_P','SECUENCIA_ENCUESTA', 'ORDEN'])\n",
    " .merge(Trabajo_, how='inner', on=['DIRECTORIO', 'SECUENCIA_P','SECUENCIA_ENCUESTA', 'ORDEN'])\n",
    " .merge(Servicios_, how='inner', on=['DIRECTORIO', 'SECUENCIA_P','SECUENCIA_ENCUESTA', 'ORDEN'])\n",
    " .merge(Codigos_, how='inner', left_on='MPIO', right_on='COD_MPIO'))\n",
    "\n",
    "variables = ['P6040','P8586','P6211','P6240',\"P6020\",\n",
    "              'P6435','P6440','P6460S1','P8636','P8636S1','P8654',\"P6426\",\n",
    "              'NOMB_DEP','P8654S1','I_HOGAR','PERCAPITA','CANT_PERSONAS_HOGAR','DIRECTORIO',\n",
    "              'MPIO','NOMB_MUN','COD_MPIO','LATITUD','LONGITUD']\n",
    "\n",
    "data = data[variables]\n",
    "data['Total_ingresos'] = (pd.to_numeric(data['I_HOGAR'],errors='coerce').fillna(0) + \n",
    "                         pd.to_numeric(data['P8636S1'],errors='coerce').fillna(0) * \n",
    "                         pd.to_numeric(data['P8654S1'],errors='coerce').fillna(0)/12)\n",
    "\n",
    "data = data.drop(columns=['I_HOGAR','P8636S1','P8654S1','PERCAPITA'])\n",
    "\n",
    "data[['Total_ingresos']] = data[['Total_ingresos']].astype(int)/1000000\n",
    "#RESTRINGIR VALORES DE MENORES DE EDAD\n",
    "data = data.loc[data['P6040']>=18,:]\n",
    "\n",
    "# SE ELIMINAN AQUELLOS QUE TIENEN INGRESOS MAYORES A 100 MILLONES\n",
    "seleccion = data[data['Total_ingresos'] < data['Total_ingresos'].quantile(0.99)]"
   ]
  },
  {
   "cell_type": "code",
   "execution_count": 87,
   "metadata": {},
   "outputs": [
    {
     "name": "stderr",
     "output_type": "stream",
     "text": [
      "/tmp/ipykernel_252800/2629293318.py:11: SettingWithCopyWarning: \n",
      "A value is trying to be set on a copy of a slice from a DataFrame.\n",
      "Try using .loc[row_indexer,col_indexer] = value instead\n",
      "\n",
      "See the caveats in the documentation: https://pandas.pydata.org/pandas-docs/stable/user_guide/indexing.html#returning-a-view-versus-a-copy\n",
      "  seleccion['P6240'] = seleccion['P6240'].apply(lambda x: 1 if x in [1, 4, 5] else 2) # 1 EMPLEADO, HOGAR 2 DESEMPLEADO, ESTUDIANDO, BUSCANDO TRABAJO\n"
     ]
    }
   ],
   "source": [
    "# PREPROCESAMIENTO DE DATOS\n",
    "\n",
    "# P6020                      0 SEXO AL NACER\n",
    "# P6040                      0 EDAD\n",
    "# P8586                      0 ACTUALMENTE ESTUDIA \n",
    "\n",
    "# P6211                  71514 AÑOS DE ESTUDIO SUPERIORES - REEMPLAZAR CON CERO LOS NULOS\n",
    "seleccion.loc[:, 'P6211'] = seleccion['P6211'].fillna(0)\n",
    "\n",
    "# P6240                      0 EN QUE ACTIVIDAD OCUPÓ LA MAYOR PARTE DEL TIEMPO\n",
    "seleccion['P6240'] = seleccion['P6240'].apply(lambda x: 1 if x in [1, 4, 5] else 2) # 1 EMPLEADO, HOGAR 2 DESEMPLEADO, ESTUDIANDO, BUSCANDO TRABAJO\n",
    "\n",
    "# P6435                  26834 TIPO DE TRABAJO - REEMPLAZAR NULOS POR 8 Y LUEGO RECLASIFICAR\n",
    "seleccion.loc[:, 'P6435'] = seleccion['P6435'].fillna(8)\n",
    "seleccion.loc[:, 'P6435'] = seleccion['P6435'].apply(lambda x: 1 if x < 7 else 2)\n",
    "\n",
    "# P6440                  52860 TIENE CONTRATO - REEMPLAZAR NULOS POR CERO\n",
    "seleccion.loc[:, 'P6440'] = seleccion['P6440'].fillna(2)\n",
    "\n",
    "# P6460S1                80477 NÚMERO DE MESES EN ESE TRABAJO - REEMPLAZAR NULOS CON EL VALOR DE P6426 O CERO\n",
    "# P6426                  65140 TIEMPO EN MESES EN ESTA ACTIVIDAD\n",
    "seleccion.loc[:, 'P6460S1'] = seleccion['P6460S1'].fillna(seleccion['P6426'])\n",
    "seleccion.loc[:, 'P6460S1'] = seleccion['P6460S1'].fillna(0)\n",
    "\n",
    "# P8636                  26834 TUVO OTROS TRABAJOS POR LOS CUALES RECIBIÓ DINERO - REEMPLAZAR NULOS POR 2\n",
    "seleccion.loc[:, 'P8636'] = seleccion['P8636'].fillna(2)\n",
    "\n",
    "# P8654                      0 RECIBIÓ DINEROS ADICIONALES POR RIFAS U OTROS...\n",
    "seleccion = seleccion.drop(columns={'P6426'})\n",
    "# CANT_PERSONAS_HOGAR        0 PERSONAS EN EL HOGAR\n",
    "# DIRECTORIO                 0 IDENTIFICADOR HOGAR\n",
    "# MPIO                       0 IDENTIFICADOR MUNICIPIO\n",
    "# NOMB_MUN                   0 IDENTIFICADOR NOMBRE MUNICIPIO\n",
    "# COD_MPIO                   0 IDENTIFICADOR CODDOGO MUNICIPIO\n",
    "# LATITUD                    0 LATITUD \n",
    "# LONGITUD                   0 LONGITUD \n",
    "# Total_ingresos             0 I_HOGAR: INGRESOS NETOS + 'P8636S1': PRIMAS BONOS + 'P8654S1': OCASIONALES \n",
    "# 'PERCAPITA'                0 INGRESO POR PERSONA\n",
    "\n"
   ]
  },
  {
   "cell_type": "code",
   "execution_count": 88,
   "metadata": {},
   "outputs": [
    {
     "data": {
      "text/plain": [
       "count    6347.000000\n",
       "mean        2.493983\n",
       "std         2.505906\n",
       "min         0.000000\n",
       "25%         1.000000\n",
       "50%         1.730000\n",
       "75%         3.107083\n",
       "max        15.880000\n",
       "Name: Total_ingresos, dtype: float64"
      ]
     },
     "execution_count": 88,
     "metadata": {},
     "output_type": "execute_result"
    }
   ],
   "source": [
    "# SOLAMENTE CUNDINAMARCA Y BOGOTA\n",
    "seleccion = seleccion[seleccion['NOMB_DEP'].isin(['BOGOTÁ, D. C.', 'CUNDINAMARCA'])]\n",
    "seleccion['Total_ingresos'].describe()"
   ]
  },
  {
   "cell_type": "code",
   "execution_count": 89,
   "metadata": {},
   "outputs": [],
   "source": [
    "cursor = conn.cursor()\n",
    "cursor.execute('DROP TABLE IF EXISTS Seleccionados')\n",
    "conn.commit()\n",
    "\n",
    "seleccion.to_sql('Seleccionados',conn,index = False)\n",
    "\n",
    "# PRIMERO SE SE CREA EVALUA LA VARIABLE DE RESPUESTA 'Total ingresos'\n",
    "seleccion = pd.read_sql('SELECT * FROM Seleccionados', conn)\n"
   ]
  },
  {
   "cell_type": "markdown",
   "metadata": {},
   "source": [
    "# DESCRIPCION DE VARIABLES"
   ]
  },
  {
   "cell_type": "code",
   "execution_count": 82,
   "metadata": {},
   "outputs": [
    {
     "data": {
      "text/plain": [
       "'\\\\begin{tabular}{lr}\\n\\\\toprule\\n & Total_ingresos \\\\\\\\\\n\\\\midrule\\ncount & 6347.000000 \\\\\\\\\\nmean & 2.490000 \\\\\\\\\\nstd & 2.510000 \\\\\\\\\\nmin & 0.000000 \\\\\\\\\\n25% & 1.000000 \\\\\\\\\\n50% & 1.730000 \\\\\\\\\\n75% & 3.110000 \\\\\\\\\\nmax & 15.880000 \\\\\\\\\\n\\\\bottomrule\\n\\\\end{tabular}\\n'"
      ]
     },
     "execution_count": 82,
     "metadata": {},
     "output_type": "execute_result"
    }
   ],
   "source": [
    "seleccion = pd.read_sql('select * from seleccionados',conn)\n",
    "edr = np.round(seleccion[['Total_ingresos']].describe(),2)\n",
    "edr.to_latex()"
   ]
  },
  {
   "cell_type": "code",
   "execution_count": 83,
   "metadata": {},
   "outputs": [
    {
     "data": {
      "image/png": "[encoded data removed]",
      "text/plain": [
       "<Figure size 640x480 with 4 Axes>"
      ]
     },
     "metadata": {},
     "output_type": "display_data"
    }
   ],
   "source": [
    "# VARIABLES PARA EL MODELO LINEAL GENAERAZLIDO\n",
    "\n",
    "\n",
    "# MODELO DE REGRESION LINEAL  GENERALIZADO\n",
    "\n",
    "# PRIMERO SE SE CREA EVALUA LA VARIABLE DE RESPUESTA 'Total ingresos'\n",
    "# UNIDADES POR MILLON DE PESOS\n",
    "seleccion[['Total_ingresos']] = seleccion[['Total_ingresos']].astype(int)/1000000\n",
    "# SE ELIMINAN AQUELLOS QUE TIENEN INGRESOS MAYORES A 100 MILLONES\n",
    "\n",
    "seleccion = seleccion[seleccion['Total_ingresos'] < seleccion['Total_ingresos'].quantile(0.99)]\n",
    "\n",
    "# REVISEMOS EL HISTOGRAMA Y BOXPLOT\n",
    "fig, axs = plt.subplots(nrows=2, ncols=2)  # Crear subgráficos (2x2)\n",
    "\n",
    "\n",
    "sns.barplot(data=seleccion, x='P6020', ax=axs[0, 0],hue = 'P6020')\n",
    "sns.barplot(data=seleccion, x='P6435', ax=axs[1, 0],hue = 'P6435')\n",
    "sns.barplot(data=seleccion, x='P8636', ax=axs[1, 1],hue = 'P8636')\n",
    "sns.histplot(data=seleccion, x='Total_ingresos',bins=30, ax=axs[0, 1])\n",
    "\n",
    "\n",
    "# Mostrar la figura\n",
    "plt.tight_layout()  # Ajusta el espaciado entre los subgráficos\n",
    "plt.show()\n"
   ]
  }
 ],
 "metadata": {
  "kernelspec": {
   "display_name": ".venv",
   "language": "python",
   "name": "python3"
  },
  "language_info": {
   "codemirror_mode": {
    "name": "ipython",
    "version": 3
   },
   "file_extension": ".py",
   "mimetype": "text/x-python",
   "name": "python",
   "nbconvert_exporter": "python",
   "pygments_lexer": "ipython3",
   "version": "3.8.10"
  }
 },
 "nbformat": 4,
 "nbformat_minor": 2
}

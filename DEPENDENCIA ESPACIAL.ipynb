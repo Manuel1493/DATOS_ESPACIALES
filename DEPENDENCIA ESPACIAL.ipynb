{
 "cells": [
  {
   "cell_type": "code",
   "execution_count": 1,
   "metadata": {},
   "outputs": [],
   "source": [
    "import libpysal as ps\n",
    "import geopandas as gpd\n",
    "import splot\n",
    "import matplotlib.pyplot as plt\n",
    "import esda\n",
    "import pandas as pd\n",
    "import seaborn as sns\n",
    "import numpy as np\n",
    "import sqlite3 as sq\n",
    "import statsmodels.api as sm\n",
    "import pandas as pd\n",
    "from sklearn.model_selection import train_test_split\n",
    "from sklearn.metrics import mean_squared_error, mean_absolute_error, r2_score\n",
    "import numpy as np\n",
    "import pandas as pd\n",
    "import statsmodels.api as sm\n",
    "import seaborn as sns\n",
    "import matplotlib.pyplot as plt\n",
    "from statsmodels.stats.diagnostic import het_breuschpagan\n",
    "from statsmodels.stats.outliers_influence import variance_inflation_factor\n",
    "from statsmodels.tools.tools import add_constant\n",
    "from scipy import stats\n",
    "\n",
    "\n",
    "conn = sq.connect('/home/manuel/Desktop/pROYECTO/database.db')\n",
    "\n",
    "\n"
   ]
  },
  {
   "cell_type": "code",
   "execution_count": 2,
   "metadata": {},
   "outputs": [],
   "source": [
    "seleccion = pd.read_sql('SELECT * FROM Seleccionados', conn)"
   ]
  },
  {
   "cell_type": "markdown",
   "metadata": {},
   "source": [
    "MAPA GENERAL DE INGRESOS PROMEDIO MUNICIPIOS CUNDINAMARCA"
   ]
  },
  {
   "cell_type": "code",
   "execution_count": null,
   "metadata": {},
   "outputs": [],
   "source": [
    "import libpysal as ps\n",
    "from esda import Moran, Moran_Local\n",
    "\n",
    "# ESTA ES LA BASE CON QUE SE REALIZA LOS GRAFICOS Y LOS ESTUDIOS DE DEPENDENCIA ESPACIAL\n",
    "cart = seleccion.groupby(['NOMB_MUN','COD_MPIO','LATITUD','LONGITUD']).agg(MEDIA = ('Total_ingresos','mean')).reset_index()\n",
    "\n",
    "gdf = gpd.read_file('Mapas/Municipio, Distrito y Area no municipalizada.shp')\n",
    "gdf = gdf[gdf['Depto'] == 'Cundinamarca']\n",
    "\n",
    "gdf['MpCodigo'] = pd.to_numeric(gdf['MpCodigo'], errors='coerce')\n",
    "df_ = gdf.merge(cart,left_on='MpCodigo', right_on='COD_MPIO', how='inner')\n",
    "\n",
    "\n",
    "# GRAFICO DE LOS INGRESOS PROMEDIOS POR MUNICIPIO\n",
    "fig, ax = plt.subplots(1, 1, figsize=(8, 8))\n",
    "\n",
    "gdf.plot(ax=ax, color='white', edgecolor='black')\n",
    "df_.plot(column='MEDIA', ax=ax, legend=True,edgecolor='black',\n",
    "         legend_kwds={'label': \"MEDIA\",\n",
    "                      'orientation': \"vertical\"})\n",
    "plt.title(\"INGRESOS PROMEDIO CUNDINAMARCA\", fontsize=16)\n",
    "plt.show()"
   ]
  },
  {
   "cell_type": "code",
   "execution_count": null,
   "metadata": {},
   "outputs": [],
   "source": [
    "# CALCULO DE INDICE DE MORAN, AVERIGUAR LA DEPENDENCIA ESPACIAL\n",
    "\n",
    "# LAS DISTANCIAS SE MIDEN DE ACUERDO AL MOVIMIENTO DE LA REINA (QUEEN)\n",
    "\n",
    "wq =  ps.weights.Queen.from_dataframe(df_)\n",
    "wq.transform = 'r'\n",
    "\n",
    "moran = Moran(df_['MEDIA'],wq)\n",
    "\n",
    "print(f'El indice de Morgan General es de : {moran.I:.2f}')\n",
    "print(f'El valor p para el sistema de hipótesis es de {moran.p_sim}')\n",
    "\n",
    "\n",
    "# COMO EL VALOR P ES DE 0.004 ENTNCES SE RECHAZA H0: I=0 POR LO TANTO EXISTE DEPENDENCIA ESPACIAL"
   ]
  },
  {
   "cell_type": "code",
   "execution_count": null,
   "metadata": {},
   "outputs": [],
   "source": [
    "df_.head()"
   ]
  },
  {
   "cell_type": "code",
   "execution_count": null,
   "metadata": {},
   "outputs": [],
   "source": [
    "# DEPENDENCIA LOCAL (GRAFICAS LISA)\n",
    "\n",
    "# Calcular el índice de Moran Local para la variable 'MEDIA'\n",
    "ml = esda.Moran_Local(df_['MEDIA'], wq)\n",
    "\n",
    "# Acceder a los valores p de la simulación\n",
    "p_values = ml.p_sim\n",
    "\n",
    "# Asumiendo que ya tienes el GeoDataFrame df_ con los resultados de Moran's I Local\n",
    "df_['moran_local'] = ml.p_sim  # Añadir el resultado de Moran's I Local al GeoDataFrame\n",
    "\n",
    "# Graficar en el mapa\n",
    "fig, ax = plt.subplots(1, 1, figsize=(12, 12))\n",
    "gdf.plot(ax=ax, color='white', edgecolor='black')\n",
    "df_.plot(column='moran_local', ax=ax, legend=True,edgecolor='black',\n",
    "         legend_kwds={'label': \"Moran's I Local\",\n",
    "                      'orientation': \"horizontal\"})\n",
    "\n",
    "for idx, row in gdf.iterrows():\n",
    "    ax.annotate(text=row['MpNombre'], xy=(row.geometry.centroid.x, row.geometry.centroid.y),\n",
    "                fontsize=8, ha='center', color='black')\n",
    "    \n",
    "plt.title(\"Mapa de Moran's I Local\", fontsize=10)\n",
    "plt.show()"
   ]
  }
 ],
 "metadata": {
  "kernelspec": {
   "display_name": ".venv",
   "language": "python",
   "name": "python3"
  },
  "language_info": {
   "codemirror_mode": {
    "name": "ipython",
    "version": 3
   },
   "file_extension": ".py",
   "mimetype": "text/x-python",
   "name": "python",
   "nbconvert_exporter": "python",
   "pygments_lexer": "ipython3",
   "version": "3.8.10"
  }
 },
 "nbformat": 4,
 "nbformat_minor": 2
}
